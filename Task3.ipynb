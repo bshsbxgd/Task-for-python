{
 "cells": [
  {
   "cell_type": "markdown",
   "metadata": {},
   "source": [
    "Загрузите данные по изменению температуры поверхности земли. Для этого может понадобится зарегистрироваться на Kaggle. Затем нужно будет работать с данными, которые содержатся в файле GlobalLandTemperaturesByMajorCity.csv"
   ]
  },
  {
   "cell_type": "code",
   "execution_count": null,
   "metadata": {},
   "outputs": [],
   "source": [
    "import zipfile\n",
    "\n",
    "import pandas as pd\n",
    "import matplotlib.pyplot as plt\n",
    "\n",
    "%matplotlib inline\n",
    "\n",
    "with zipfile.ZipFile(\"archive.zip\") as z:\n",
    "    with z.open(\"GlobalLandTemperaturesByMajorCity.csv\") as f:\n",
    "        df = pd.read_csv(f, parse_dates=[\"dt\"])\n",
    "\n",
    "df.head()"
   ]
  },
  {
   "cell_type": "markdown",
   "metadata": {},
   "source": [
    "Задание 3.1 (1 балл)\n",
    "В последующих заданиях будут учитываться данные начиная с 01.01.1950. Для этого создайте новый DataFrame, в котором удалены все строки до 01.01.1950. Используйте созданный DataFrame в последующих заданиях."
   ]
  },
  {
   "cell_type": "code",
   "execution_count": null,
   "metadata": {},
   "outputs": [],
   "source": [
    "df_1950 = df[df[\"dt\"] >= \"1950-01-01\"]\n",
    "print('-----------------------------------------------------------','\\nЗадача 1：')\n",
    "df_1950.head()\n"
   ]
  },
  {
   "cell_type": "markdown",
   "metadata": {},
   "source": [
    "Задание 3.2 (2 балла)\n",
    "Постройте график среднегодовых температур в городе Торонто."
   ]
  },
  {
   "cell_type": "code",
   "execution_count": null,
   "metadata": {},
   "outputs": [],
   "source": [
    "# Получим список значений температуры в Торонто\n",
    "df_Toronto= df_1950[df_1950[\"City\"] == \"Toronto\"]\n",
    "df_Toronto['dt'] = pd.to_datetime(df_Toronto['dt'])\n",
    "\n",
    "\n",
    "df_Toronto['dt'] = df['dt'].dt.year\n",
    "df_Toronto= df_Toronto.groupby('dt')['AverageTemperature'].mean().reset_index()\n",
    "\n",
    "plt.plot(df_Toronto['dt'], df_Toronto['AverageTemperature'])\n",
    "plt.xlabel('Год')\n",
    "plt.ylabel('Среднегодовая температура')\n",
    "plt.title('Среднегодовая температура в Торонто')\n",
    "plt.show()\n",
    "\n",
    "df_Toronto\n",
    "\n"
   ]
  },
  {
   "cell_type": "markdown",
   "metadata": {},
   "source": [
    "Задание 3.3 (2 балла)\n",
    "Найдите город, для которого выборочная дисперсия температур на приведенных данных максимальна."
   ]
  },
  {
   "cell_type": "code",
   "execution_count": null,
   "metadata": {},
   "outputs": [],
   "source": [
    "3.3\n",
    "\n",
    "# Вычисление выборочной дисперсии по группам\n",
    "variance = df_1950.groupby('City')['AverageTemperature'].var()\n",
    "\n",
    "# Нахождение города с максимальной выборочной дисперсией\n",
    "city_max_variance = variance.idxmax()\n",
    "\n",
    "print(\"Город с максимальной выборочной дисперсией температур:\", city_max_variance)"
   ]
  },
  {
   "cell_type": "markdown",
   "metadata": {},
   "source": [
    "Задание 3.4 (4 балла)\n",
    "На одной оси постройте графики, отображающие:\n",
    "1.Зависимость выборочной дисперсии температур от широты города (Latitude).\n",
    "2.Зависимость средней температуры в январе 1975 года от широты города (Latitude).\n",
    "3.Зависимость средней температуры в июле 1975 года от широты города (Latitude)."
   ]
  },
  {
   "cell_type": "code",
   "execution_count": null,
   "metadata": {},
   "outputs": [],
   "source": [
    "#3.4.1\n",
    "# 1. Зависимость выборочной дисперсии температур от широты города\n",
    "variance = df_1950.groupby('Latitude')['AverageTemperature'].var()\n",
    "variance.plot(marker='o', linestyle='-', color='blue')\n",
    "plt.xlabel('Широта')\n",
    "plt.ylabel('Выборочная дисперсия температур')\n",
    "plt.title('Зависимость выборочной дисперсии температур от широты города')\n",
    "plt.show()\n",
    "#2. Зависимость средней температуры в январе 1975 года от широты города\n",
    "\n",
    "january_temp = df_1950[df_1950['dt'] == '1975-01-01']\n",
    "january_mean_temp = january_temp.groupby('Latitude')['AverageTemperature'].mean()\n",
    "january_mean_temp.plot(marker='o', linestyle='-', color='red')\n",
    "plt.xlabel('Широта')\n",
    "plt.ylabel('Средняя температура в январе 1975.01 года')\n",
    "plt.title('Зависимость средней температуры в 1975.01 года от широты города')\n",
    "\n",
    "\n",
    "#Зависимость средней температуры в июле 1975 года от широты города\n",
    "january_temp = df_1950[df_1950['dt'] == '1975-07-01']\n",
    "january_mean_temp = january_temp.groupby('Latitude')['AverageTemperature'].mean()\n",
    "january_mean_temp.plot(marker='o', linestyle='-', color='green')\n",
    "plt.xlabel('Широта')\n",
    "plt.ylabel('Средняя температура в 1975-01 и 1975-07года')\n",
    "plt.title('Зависимость средней температуры в 1975-01 и 1975-07 года от широты города')\n",
    "\n",
    "plt.show()\n"
   ]
  },
  {
   "cell_type": "markdown",
   "metadata": {},
   "source": [
    "Задание 3.5 (6 баллов) \n",
    "Посчитайте данные по среднегодовой температуре в Санкт-Петербурге. Определите года, в которых средняя температура была выше, чем в предыдущем и последующем году. Постройте график среднегодовой температуры и обозначьте на нём найденные года (произвольным образом) \n",
    "Постройте модель линейной регрессии (можно использовать LinearRegression); г о д — с р е д н я ят е м п е р а т у р а Отобразите прямую на предыдущем графике."
   ]
  },
  {
   "cell_type": "code",
   "execution_count": null,
   "metadata": {},
   "outputs": [],
   "source": [
    "df_Saint_Petersburg= df_1950[df_1950[\"City\"] == \"Saint Petersburg\"]\n",
    "\n",
    "\n",
    "import pandas as pd\n",
    "import matplotlib.pyplot as plt\n",
    "from sklearn.linear_model import LinearRegression\n",
    "\n",
    "\n",
    "\n",
    "df_Saint_Petersburg.head()\n",
    "\n"
   ]
  },
  {
   "cell_type": "code",
   "execution_count": null,
   "metadata": {},
   "outputs": [],
   "source": [
    "# Расчетная средняя температура\n",
    "df_Saint_Petersburg[\"mean_temperature\"] = df_Saint_Petersburg[\"AverageTemperature\"].mean()\n",
    "\n",
    "import pandas as pd\n",
    "import matplotlib.pyplot as plt\n",
    "\n",
    "\n",
    "# Преобразовать поле даты в тип Datetime\n",
    "df_Saint_Petersburg['dt'] = pd.to_datetime(df_Saint_Petersburg['dt'])\n",
    "\n",
    "# Поле года извлечения\n",
    "df_Saint_Petersburg['year'] = df_Saint_Petersburg['dt'].dt.year\n",
    "\n",
    "average_temperatures = df_Saint_Petersburg.groupby('year')['AverageTemperature'].mean()\n",
    "\n",
    "# Определите годы, когда средняя температура была выше, чем в предыдущем и последующем годах.\n",
    "higher_temperatures = average_temperatures[(average_temperatures.shift() < average_temperatures) &\n",
    "                                           (average_temperatures.shift(-1) < average_temperatures)]\n",
    "\n",
    "\n",
    "# Картирование среднегодовой температуры\n",
    "\n",
    "for year in higher_temperatures.index:\n",
    "    temperature = higher_temperatures[year]\n",
    "    plt.annotate(str(year), xy=(year, temperature), xytext=(5, 5), textcoords='offset points')\n",
    "\n",
    "plt.plot(average_temperatures.index, average_temperatures.values)\n",
    "plt.scatter(higher_temperatures.index, higher_temperatures.values, color='r', label='Higher temperature')\n",
    "plt.xlabel('Year')\n",
    "plt.ylabel('Average Temperature')\n",
    "plt.title('Annual Average Temperature in Saint Petersburg')\n",
    "plt.legend()\n",
    "plt.show()\n",
    "\n",
    "\n",
    "\n"
   ]
  },
  {
   "cell_type": "markdown",
   "metadata": {},
   "source": [
    "Задание 3.6 (4 балла)\n",
    "Найдите города, для которых:\n",
    "1.Разница между максимальным и минимальным значением среднегодовой температуры в выборке максимальна.\n",
    "2.Самая большая средняя разница между средней температурой января и средней температурой июля.\n",
    "3.Наибольшее среднее количество месяцев с отрицательной температурой в году."
   ]
  },
  {
   "cell_type": "code",
   "execution_count": null,
   "metadata": {},
   "outputs": [],
   "source": [
    "df_1950"
   ]
  },
  {
   "cell_type": "code",
   "execution_count": null,
   "metadata": {},
   "outputs": [],
   "source": [
    "import pandas as pd\n",
    "import numpy as np\n",
    "\n",
    "# Расчет разницы в среднегодовой температуре в каждом городе\n",
    "df_1950['Year'] = pd.to_datetime(df_1950['dt']).dt.year\n",
    "mean_temp_by_year = df_1950.groupby(['City', 'Year'])['AverageTemperature'].mean().reset_index()\n",
    "\n",
    "df_1950['Annual Mean Difference'] = mean_temp_by_year.groupby('City')['AverageTemperature'].diff().abs().max()\n",
    "\n",
    "# Найдите город с самой большой разницей в среднегодовой температуре\n",
    "max_mean_diff_city = df_1950.groupby('City')['Annual Mean Difference'].idxmax()\n",
    "max_mean_diff_city = df_1950.loc[max_mean_diff_city]['City'].values[0]\n",
    "print(\"Разница между максимальным и минимальным значением среднегодовой температуры в выборке максимальна：\" + max_mean_diff_city)\n",
    "\n",
    "\n",
    "# Расчет разницы между средней температурой в январе и июле в каждом городе\n",
    "df_1950['Month'] = pd.to_datetime(df_1950['dt']).dt.month\n",
    "jan_avg_temp = df_1950[df_1950['Month'] == 1].groupby('City')['AverageTemperature'].mean()\n",
    "jul_avg_temp = df_1950[df_1950['Month'] == 7].groupby('City')['AverageTemperature'].mean()\n",
    "\n",
    "# Храните разницу между средней температурой января и июля в DataFrame\n",
    "temp_diff_df = pd.DataFrame({\n",
    "    'City': jan_avg_temp.index,\n",
    "    'Jan Average Temperature': jan_avg_temp.values,\n",
    "    'Jul Average Temperature': jul_avg_temp.values,\n",
    "    'Temp Difference': jan_avg_temp.values - jul_avg_temp.values\n",
    "})\n",
    "\n",
    "# Найдите города с наибольшей разницей в средних температурах января и июля\n",
    "max_temp_diff_city = temp_diff_df.loc[temp_diff_df['Temp Difference'].idxmax()]['City']\n",
    "print(\"Самая большая средняя разница между средней температурой января и средней температурой июля：\" + max_temp_diff_city)\n",
    "\n",
    "\n",
    "\n",
    "df_1950['Year'] = pd.to_datetime(df_1950['dt']).dt.year\n",
    "\n",
    "negative_temps = df_1950[df_1950['AverageTemperature'] < 0]\n",
    "\n",
    "result = negative_temps.groupby(['Year', 'City']).size().reset_index(name='NegativeMonths')\n",
    "\n",
    "most_negative_city_per_year = result.groupby('Year').apply(lambda x: x.loc[x['NegativeMonths'].idxmax()]['City']).reset_index(name='MostNegativeCity')\n",
    "\n",
    "# Названы города с наибольшим количеством месяцев с отрицательными температурами в год\n",
    "most_negative_city = most_negative_city_per_year.groupby('MostNegativeCity').size().idxmax()\n",
    "\n",
    "print('Наибольшее среднее количество месяцев с отрицательной температурой в году: '+most_negative_city)"
   ]
  },
  {
   "cell_type": "markdown",
   "metadata": {},
   "source": [
    "Задание 3.7 (3 балла)\n",
    "Отобразите города на карте, например с помощью geopandas/folium или plotly. Причем цвет метки должен соответствовать средней температуре в январе за последние 10 лет.\n",
    "\n",
    "***(+3 балла). Вычислите прямую с \"трендом\" по изменению средней температуры за год в каждом городе в период 1950-2013 (можно с помощью линейной регрессии, как в задании 3.5**). Отобразите города цветом, который зависит от угла наклона этой прямой.\n",
    "\n",
    "*****(+1 балл) В дополнение к предыдущему пункту, используйте библиотеку pwlf с фиксированным числом сегментов и визуализируйте угол наклона последнего сегмента."
   ]
  },
  {
   "cell_type": "code",
   "execution_count": null,
   "metadata": {},
   "outputs": [],
   "source": [
    "df_1950"
   ]
  },
  {
   "cell_type": "code",
   "execution_count": null,
   "metadata": {},
   "outputs": [],
   "source": [
    "import pandas as pd\n",
    "import geopandas as gpd\n",
    "import folium\n",
    "from folium.plugins import MarkerCluster\n",
    "from sklearn.linear_model import LinearRegression\n",
    "import matplotlib.pyplot as plt\n",
    "import matplotlib.colors as mcolors\n",
    "import pwlf\n",
    "\n",
    "data = df_1950.copy()\n",
    "data['Year'] = pd.to_datetime(data['dt']).dt.year\n",
    "\n",
    "data = data[data['Year'] >= 2004]\n",
    "data = data[data['Month'] == 1]\n",
    "data = data.groupby(['City', 'Year','Latitude','Longitude'])['AverageTemperature'].mean().reset_index()\n",
    "data.rename(columns={'AverageTemperature': 'jan_temp'}, inplace=True)\n",
    "data\n",
    "\n"
   ]
  },
  {
   "cell_type": "code",
   "execution_count": null,
   "metadata": {},
   "outputs": [],
   "source": [
    "colors = []\n",
    "for city in data['City']:\n",
    "    x = data[data['City'] == city]['Year'].values.reshape(-1, 1)\n",
    "    y = data[data['City'] == city]['jan_temp'].values\n",
    "\n",
    "    reg = LinearRegression().fit(x, y)\n",
    "    slope = reg.coef_[0]\n",
    "    angle = np.degrees(np.arctan(slope))\n",
    "\n",
    "    colors.append(angle)\n",
    "\n",
    "norm = mcolors.Normalize(vmin=min(colors), vmax=max(colors))\n",
    "cmap = plt.cm.get_cmap('coolwarm')\n",
    "\n",
    "data['Color'] = colors\n",
    "data['Color'] = data['Color'].apply(lambda x: mcolors.rgb2hex(cmap(norm(x))) if pd.notnull(x) else '#ffffff')\n",
    "\n",
    "data"
   ]
  },
  {
   "cell_type": "code",
   "execution_count": null,
   "metadata": {},
   "outputs": [],
   "source": [
    "# Создать карту\n",
    "m = folium.Map(location=[0, 0], zoom_start=2)\n",
    "\n",
    "# Создать компонент кластера меток\n",
    "marker_cluster = MarkerCluster().add_to(m)\n",
    "\n",
    "# Очистить данные\n",
    "data['Latitude'] = data['Latitude'].str.replace(r'[^0-9\\.]', '', regex=True)\n",
    "data['Longitude'] = data['Longitude'].str.replace(r'[^0-9\\.]', '', regex=True)\n",
    "# Преобразование в число с плавающей запятой\n",
    "data['Latitude'] = data['Latitude'].astype(float)\n",
    "data['Longitude'] = data['Longitude'].astype(float)\n",
    "\n",
    "# Добавить городской знак на карту\n",
    "for index, row in data.iterrows():\n",
    "    Latitude = row['Latitude']  \n",
    "    Longitude = row['Longitude']  \n",
    "\n",
    "    folium.Marker([Latitude, Longitude], \n",
    "                  popup=row['City'], \n",
    "                  icon=folium.Icon(icon='cloud', color=row['Color'])\n",
    "                 ).add_to(marker_cluster)\n",
    "\n",
    "# Показать карту\n",
    "m"
   ]
  },
  {
   "cell_type": "code",
   "execution_count": null,
   "metadata": {},
   "outputs": [],
   "source": [
    "# Расчет разницы в среднегодовой температуре в каждом городе\n",
    "df_1950['Year'] = pd.to_datetime(df_1950['dt']).dt.year\n",
    "mean_temp_by_year = df_1950.groupby(['City', 'Year'])['AverageTemperature'].mean().reset_index()\n",
    "mean_temp_by_year"
   ]
  },
  {
   "cell_type": "code",
   "execution_count": 122,
   "metadata": {},
   "outputs": [
    {
     "name": "stdout",
     "output_type": "stream",
     "text": [
      "Тенденции изменения среднегодовой температуры：0.016201492759844328\n",
      "Наклон последнего абзаца：0.6445324427434826\n"
     ]
    }
   ],
   "source": [
    "#for City in mean_temp_by_year.index:\n",
    "  #  Расчетная прямая среднегодового изменения температуры\n",
    "X = mean_temp_by_year['Year'].values.reshape(-1, 1)\n",
    "Y = mean_temp_by_year['AverageTemperature'].values.reshape(-1, 1)\n",
    "regression = LinearRegression().fit(X,Y)\n",
    "slope = regression.coef_[0][0]\n",
    "\n",
    "# Использовать библиотеку PWLF для вычисления наклона последнего сегмента\n",
    "data = mean_temp_by_year.sort_values('Year')\n",
    "x = data['Year']\n",
    "y = data['AverageTemperature']\n",
    "my_pwlf = pwlf.PiecewiseLinFit(x, y)\n",
    "my_pwlf.fit(5)  \n",
    "slope_last_segment = my_pwlf.slopes[-1]\n",
    "\n",
    "# Результаты печати\n",
    "print(f\"Тенденции изменения среднегодовой температуры：{slope}\")\n",
    "print(f\"Наклон последнего абзаца：{slope_last_segment}\")\n",
    "\n",
    "\n",
    "\n",
    "\n",
    "\n",
    "\n",
    "\n",
    "\n",
    "\n",
    "\n",
    "\n",
    "\n",
    "\n",
    "\n",
    "\n"
   ]
  }
 ],
 "metadata": {
  "kernelspec": {
   "display_name": "Python 3",
   "language": "python",
   "name": "python3"
  },
  "language_info": {
   "codemirror_mode": {
    "name": "ipython",
    "version": 3
   },
   "file_extension": ".py",
   "mimetype": "text/x-python",
   "name": "python",
   "nbconvert_exporter": "python",
   "pygments_lexer": "ipython3",
   "version": "3.12.0"
  }
 },
 "nbformat": 4,
 "nbformat_minor": 2
}
