{
 "cells": [
  {
   "cell_type": "markdown",
   "metadata": {},
   "source": [
    "Задание 2.1 (2 балла)\n",
    "Сгенерируйте новый массив, в котором столбцы массива A переставлены в случайном порядке"
   ]
  },
  {
   "cell_type": "code",
   "execution_count": 1,
   "metadata": {},
   "outputs": [
    {
     "name": "stdout",
     "output_type": "stream",
     "text": [
      "\n",
      "Matrix A：\n",
      "[[14  0 17 11  6]\n",
      " [ 0  8 13  0 12]\n",
      " [16 17  8  1 15]\n",
      " [ 2  1  2 11 16]\n",
      " [19 16  4 19  8]]\n",
      "----------------------------------------------------------- \n",
      "Задача 1：\n",
      "[[17  6 11 14  0]\n",
      " [13 12  0  0  8]\n",
      " [ 8 15  1 16 17]\n",
      " [ 2 16 11  2  1]\n",
      " [ 4  8 19 19 16]]\n"
     ]
    }
   ],
   "source": [
    "#1\n",
    "import numpy as np\n",
    "import matplotlib.pyplot as plt\n",
    "import seaborn as sns\n",
    "sns.set_theme()\n",
    "A = np.random.randint(0, 20, size=(5, 5))\n",
    "print('\\nMatrix A：')\n",
    "print(A)\n",
    "# Создать случайный набор цитат\n",
    "A_index = np.random.permutation(5)\n",
    "# Перегруппировка столбцов А по индексу столбцов\n",
    "B = A[:, A_index]\n",
    "\n",
    "print('-----------------------------------------------------------','\\nЗадача 1：')\n",
    "print(B)\n",
    "\n"
   ]
  },
  {
   "cell_type": "markdown",
   "metadata": {},
   "source": [
    "Задание 2.2 (5 баллов)\n",
    "Сгенерируйте новый массив, который содержит только те строки массива A, в которых:\n",
    "\n",
    "сумма элементов по четным столбцам (индексы \n",
    ") больше среднего значения (по всему массиву) суммы элементов по нечетным столбцам (индексы \n",
    ")"
   ]
  },
  {
   "cell_type": "code",
   "execution_count": 2,
   "metadata": {},
   "outputs": [
    {
     "name": "stdout",
     "output_type": "stream",
     "text": [
      "----------------------------------------------------------- \n",
      "Задача 2：\n",
      "[[14  0 17 11  6]\n",
      " [ 0  8 13  0 12]\n",
      " [16 17  8  1 15]\n",
      " [ 2  1  2 11 16]\n",
      " [19 16  4 19  8]]\n"
     ]
    }
   ],
   "source": [
    "#2\n",
    "# Расчет суммы четных и нечетных столбцов\n",
    "even_sum = np.sum(A[:, ::2], axis=1)\n",
    "odd_sum = np.sum(A[:, 1::2], axis=1)\n",
    "# Вычислить среднее нечетное число\n",
    "odd_avg = np.mean(odd_sum)\n",
    "# Вернуться к строке выполнения условий\n",
    "B=A[even_sum > odd_avg]\n",
    "\n",
    "print('-----------------------------------------------------------','\\nЗадача 2：')\n",
    "print(B)\n",
    "\n"
   ]
  },
  {
   "cell_type": "markdown",
   "metadata": {},
   "source": [
    "Задача 2.3 (3 балла)\n",
    "Найдите индекс строки массива A, в которой разница между максимальным и минимальным элементом максимальна"
   ]
  },
  {
   "cell_type": "code",
   "execution_count": 3,
   "metadata": {},
   "outputs": [
    {
     "name": "stdout",
     "output_type": "stream",
     "text": [
      "----------------------------------------------------------- \n",
      "Задача 3：\n",
      "Разница между наибольшим и наименьшим элементами массива А：0\n"
     ]
    }
   ],
   "source": [
    "#3\n",
    "# Вычислить максимальные и минимальные значения для каждой строки            \n",
    "max_values = np.max(A, axis=1)\n",
    "min_values = np.min(A, axis=1)\n",
    "# Расчет разницы между максимальным и минимальным значениями       \n",
    "diff = max_values - min_values\n",
    "result=np.where(diff==np.max(diff,axis=0))\n",
    "# Вернуться к индексу строк с наибольшей разницей\n",
    "print('-----------------------------------------------------------','\\nЗадача 3：')\n",
    "print('Разница между наибольшим и наименьшим элементами массива А：'+str(result[0][0]))\n",
    "\n"
   ]
  },
  {
   "cell_type": "markdown",
   "metadata": {},
   "source": [
    "Задание 2.4 (7 баллов)\n",
    "Сгенерируйте массив той же размерности, что и A, но в котором каждый элемент заменен на его порядковый номер (начиная с 1) в отсортированном по возрастанию массиве из элементов A\n",
    "\n",
    "Если A выглядит так:\n",
    " \n",
    "то результат должен быть\n",
    " \n",
    "\n",
    "Tip: рассмотрите возможность неоднократного применения argsort()"
   ]
  },
  {
   "cell_type": "code",
   "execution_count": 4,
   "metadata": {},
   "outputs": [
    {
     "name": "stdout",
     "output_type": "stream",
     "text": [
      "----------------------------------------------------------- \n",
      "Задача 4：\n",
      "Генерирует массивы с тем же измерением, что и A, но каждый элемент заменяется серийным номером в массиве с повышенным порядком A (начиная с 1)：\n",
      "[[4 1 5 3 2]\n",
      " [1 3 5 2 4]\n",
      " [4 5 2 1 3]\n",
      " [2 1 3 4 5]\n",
      " [4 3 1 5 2]]\n"
     ]
    }
   ],
   "source": [
    "#4\n",
    "# Получение индексов после сортировки\n",
    "temp = A.argsort()\n",
    "# Пересортировка для получения рейтинга\n",
    "rank = temp.argsort() + 1\n",
    "print('-----------------------------------------------------------','\\nЗадача 4：')\n",
    "print('Генерирует массивы с тем же измерением, что и A, но каждый элемент заменяется серийным номером в массиве с повышенным порядком A (начиная с 1)：')\n",
    "print(rank)\n",
    "\n"
   ]
  },
  {
   "cell_type": "markdown",
   "metadata": {},
   "source": [
    "Задание 2.5 (2 балла)\n",
    "Примените \n",
    " - нормализацию к строкам массива A. То есть нужно получить новый массивы, в каждой строке которого максимальный элементы равен \n",
    ", минимальный - \n",
    "."
   ]
  },
  {
   "cell_type": "code",
   "execution_count": 5,
   "metadata": {},
   "outputs": [
    {
     "name": "stdout",
     "output_type": "stream",
     "text": [
      "----------------------------------------------------------- \n",
      "Задача 5：\n",
      "[[ 0.82  0.    1.    0.67  0.13]\n",
      " [ 0.    0.62  0.75 -0.07  0.53]\n",
      " [ 0.94  1.31  0.44  0.    0.73]\n",
      " [ 0.12  0.08  0.06  0.67  0.8 ]\n",
      " [ 1.12  1.23  0.19  1.2   0.27]]\n"
     ]
    }
   ],
   "source": [
    "#5\n",
    "# Расчет минимального и максимального значений для каждой строки\n",
    "mins =np.min(A,axis=1)\n",
    "maxs = np.max(A,axis=1)\n",
    "# Стандартизация min - max для каждой строки\n",
    "nor_A = (A - mins) / (maxs - mins)\n",
    "print('-----------------------------------------------------------','\\nЗадача 5：')\n",
    "print(np.round(nor_A,2))\n",
    "\n"
   ]
  },
  {
   "cell_type": "markdown",
   "metadata": {},
   "source": [
    "Задание 2.6 (2 балла)\n",
    "Сгенерируйте новый трехмерный массив, размерности \n",
    ". Подмассивы по нулевой оси должны состоять из элементов A, умноженных на \n",
    " соответственно"
   ]
  },
  {
   "cell_type": "code",
   "execution_count": 6,
   "metadata": {},
   "outputs": [
    {
     "name": "stdout",
     "output_type": "stream",
     "text": [
      "----------------------------------------------------------- \n",
      "Задача 6：\n",
      "[[[     0      1      2 ...     47     48     49]\n",
      "  [    50     51     52 ...     97     98     99]\n",
      "  [   100    101    102 ...    147    148    149]\n",
      "  ...\n",
      "  [  9850   9851   9852 ...   9897   9898   9899]\n",
      "  [  9900   9901   9902 ...   9947   9948   9949]\n",
      "  [  9950   9951   9952 ...   9997   9998   9999]]\n",
      "\n",
      " [[ 20000  10001  10002 ...  10047  10048  10049]\n",
      "  [ 20100  10051  10052 ...  10097  10098  10099]\n",
      "  [ 20200  10101  10102 ...  10147  10148  10149]\n",
      "  ...\n",
      "  [ 39700  19851  19852 ...  19897  19898  19899]\n",
      "  [ 39800  19901  19902 ...  19947  19948  19949]\n",
      "  [ 39900  19951  19952 ...  19997  19998  19999]]\n",
      "\n",
      " [[ 60000  20001  20002 ...  20047  20048  20049]\n",
      "  [ 60150  20051  20052 ...  20097  20098  20099]\n",
      "  [ 60300  20101  20102 ...  20147  20148  20149]\n",
      "  ...\n",
      "  [ 89550  29851  29852 ...  29897  29898  29899]\n",
      "  [ 89700  29901  29902 ...  29947  29948  29949]\n",
      "  [ 89850  29951  29952 ...  29997  29998  29999]]\n",
      "\n",
      " ...\n",
      "\n",
      " [[560000  70001  70002 ...  70047  70048  70049]\n",
      "  [560400  70051  70052 ...  70097  70098  70099]\n",
      "  [560800  70101  70102 ...  70147  70148  70149]\n",
      "  ...\n",
      "  [638800  79851  79852 ...  79897  79898  79899]\n",
      "  [639200  79901  79902 ...  79947  79948  79949]\n",
      "  [639600  79951  79952 ...  79997  79998  79999]]\n",
      "\n",
      " [[720000  80001  80002 ...  80047  80048  80049]\n",
      "  [720450  80051  80052 ...  80097  80098  80099]\n",
      "  [720900  80101  80102 ...  80147  80148  80149]\n",
      "  ...\n",
      "  [808650  89851  89852 ...  89897  89898  89899]\n",
      "  [809100  89901  89902 ...  89947  89948  89949]\n",
      "  [809550  89951  89952 ...  89997  89998  89999]]\n",
      "\n",
      " [[900000  90001  90002 ...  90047  90048  90049]\n",
      "  [900500  90051  90052 ...  90097  90098  90099]\n",
      "  [901000  90101  90102 ...  90147  90148  90149]\n",
      "  ...\n",
      "  [998500  99851  99852 ...  99897  99898  99899]\n",
      "  [999000  99901  99902 ...  99947  99948  99949]\n",
      "  [999500  99951  99952 ...  99997  99998  99999]]]\n"
     ]
    }
   ],
   "source": [
    "#6\n",
    "# Определение элемента А\n",
    "a = np.arange(1, 11)\n",
    "# Создать новый трехмерный массив\n",
    "A2 =np.arange(100000).reshape((10, 200, 50))\n",
    "# Использовать цикл для создания подмножества\n",
    "for i in range(10):\n",
    "    A2[i, :, 0] = A2[i, :, 0]*a[i]\n",
    "\n",
    "print('-----------------------------------------------------------','\\nЗадача 6：')\n",
    "print(A2)\n",
    "\n"
   ]
  },
  {
   "cell_type": "markdown",
   "metadata": {},
   "source": [
    "Задание 2.7 (2 балла)\n",
    "Создайте новый массив, такой же размерности, как и A, в котором сначала сгруппированы четные столбцы A, потом нечетные. Используйте np.concat()"
   ]
  },
  {
   "cell_type": "code",
   "execution_count": 7,
   "metadata": {},
   "outputs": [
    {
     "name": "stdout",
     "output_type": "stream",
     "text": [
      "----------------------------------------------------------- \n",
      "Задача 7：\n",
      "[[[     0      1      2 ...     47     48     49]\n",
      "  [   100    101    102 ...    147    148    149]\n",
      "  [   200    201    202 ...    247    248    249]\n",
      "  ...\n",
      "  [  9750   9751   9752 ...   9797   9798   9799]\n",
      "  [  9850   9851   9852 ...   9897   9898   9899]\n",
      "  [  9950   9951   9952 ...   9997   9998   9999]]\n",
      "\n",
      " [[ 20000  10001  10002 ...  10047  10048  10049]\n",
      "  [ 20200  10101  10102 ...  10147  10148  10149]\n",
      "  [ 20400  10201  10202 ...  10247  10248  10249]\n",
      "  ...\n",
      "  [ 39500  19751  19752 ...  19797  19798  19799]\n",
      "  [ 39700  19851  19852 ...  19897  19898  19899]\n",
      "  [ 39900  19951  19952 ...  19997  19998  19999]]\n",
      "\n",
      " [[ 60000  20001  20002 ...  20047  20048  20049]\n",
      "  [ 60300  20101  20102 ...  20147  20148  20149]\n",
      "  [ 60600  20201  20202 ...  20247  20248  20249]\n",
      "  ...\n",
      "  [ 89250  29751  29752 ...  29797  29798  29799]\n",
      "  [ 89550  29851  29852 ...  29897  29898  29899]\n",
      "  [ 89850  29951  29952 ...  29997  29998  29999]]\n",
      "\n",
      " ...\n",
      "\n",
      " [[560000  70001  70002 ...  70047  70048  70049]\n",
      "  [560800  70101  70102 ...  70147  70148  70149]\n",
      "  [561600  70201  70202 ...  70247  70248  70249]\n",
      "  ...\n",
      "  [638000  79751  79752 ...  79797  79798  79799]\n",
      "  [638800  79851  79852 ...  79897  79898  79899]\n",
      "  [639600  79951  79952 ...  79997  79998  79999]]\n",
      "\n",
      " [[720000  80001  80002 ...  80047  80048  80049]\n",
      "  [720900  80101  80102 ...  80147  80148  80149]\n",
      "  [721800  80201  80202 ...  80247  80248  80249]\n",
      "  ...\n",
      "  [807750  89751  89752 ...  89797  89798  89799]\n",
      "  [808650  89851  89852 ...  89897  89898  89899]\n",
      "  [809550  89951  89952 ...  89997  89998  89999]]\n",
      "\n",
      " [[900000  90001  90002 ...  90047  90048  90049]\n",
      "  [901000  90101  90102 ...  90147  90148  90149]\n",
      "  [902000  90201  90202 ...  90247  90248  90249]\n",
      "  ...\n",
      "  [997500  99751  99752 ...  99797  99798  99799]\n",
      "  [998500  99851  99852 ...  99897  99898  99899]\n",
      "  [999500  99951  99952 ...  99997  99998  99999]]]\n"
     ]
    }
   ],
   "source": [
    "#7\n",
    "#Получите ровные колонки\n",
    "B = A2[:, ::2]\n",
    "# Получение нечетных столбцов\n",
    "C = A2[:, 1::2]\n",
    "# Комбинирование четных и нечетных столбцов\n",
    "D = np.concatenate([B, C], axis=1)\n",
    "\n",
    "print('-----------------------------------------------------------','\\nЗадача 7：')\n",
    "print(D)\n",
    "\n"
   ]
  },
  {
   "cell_type": "markdown",
   "metadata": {},
   "source": [
    "Задание 2.8 (2 балла)\n",
    "Посчитайте количество строк массива A, в который все элементы больше 5. Используйте np.all()"
   ]
  },
  {
   "cell_type": "code",
   "execution_count": 8,
   "metadata": {},
   "outputs": [
    {
     "name": "stdout",
     "output_type": "stream",
     "text": [
      "----------------------------------------------------------- \n",
      "Задача 8：\n",
      "Количество строк в массиве A, в которых все элементы больше 5, равно：3\n"
     ]
    }
   ],
   "source": [
    "#8\n",
    "A = np.random.randint(0, 20, size=(5, 5))\n",
    "#Используйте np.all(), чтобы получить одномерный булев массив\n",
    "A_than_5 = np.all(A>5, axis=1)\n",
    "\n",
    "# Подсчитайте количество строк, в которых все элементы больше 5\n",
    "nums = np.sum(A_than_5)\n",
    "\n",
    "print('-----------------------------------------------------------','\\nЗадача 8：')\n",
    "print(f\"Количество строк в массиве A, в которых все элементы больше 5, равно：{nums}\")"
   ]
  },
  {
   "cell_type": "markdown",
   "metadata": {},
   "source": [
    "Задание 2.9 (2 балла)\n",
    "Поделите массив A горизонтально на 10 частей и создайте новый массив размерности , который является средним этих частей. Используйте np.split()"
   ]
  },
  {
   "cell_type": "code",
   "execution_count": 9,
   "metadata": {},
   "outputs": [
    {
     "name": "stdout",
     "output_type": "stream",
     "text": [
      "----------------------------------------------------------- \n",
      "Задача 9：\n",
      "(20, 50)\n"
     ]
    }
   ],
   "source": [
    "#2.9\n",
    "\n",
    "A =np.arange(10000).reshape((10, 20, 50))\n",
    "\n",
    "# Разделяем массив A на 10 частей\n",
    "parts = np.split(A, 10, axis=1)\n",
    "\n",
    "# Вычисляем среднее значение для каждой части\n",
    "mean_parts = [np.mean(part, axis=0) for part in parts]\n",
    "\n",
    "results = np.vstack(mean_parts)\n",
    "print('-----------------------------------------------------------','\\nЗадача 9：')\n",
    "print(np.shape(results))"
   ]
  },
  {
   "cell_type": "markdown",
   "metadata": {},
   "source": [
    "Задание 2.10 (4 балла)\n",
    "\"Разверните\" массив A в одномерный массив. Оставьте в нём только уникальные элементы в том же порядке, в котором они встречаются в массиве. Используйте np.unique()"
   ]
  },
  {
   "cell_type": "code",
   "execution_count": 10,
   "metadata": {},
   "outputs": [
    {
     "name": "stdout",
     "output_type": "stream",
     "text": [
      "----------------------------------------------------------- \n",
      "Задача 10：\n",
      "[    0     1     2 ... 99997 99998 99999]\n"
     ]
    }
   ],
   "source": [
    "#10\n",
    "import numpy as np\n",
    "# Assuming A is a multidimensional array\n",
    "A3 = np.arange(100000).reshape(10, 200, 50)\n",
    "# Expand A into a one-dimensional array using np.unique and retain only unique elements\n",
    "unique_A = np.unique(A3, return_index=True)[0]\n",
    "print('-----------------------------------------------------------','\\nЗадача 10：')\n",
    "print(unique_A)"
   ]
  },
  {
   "cell_type": "markdown",
   "metadata": {},
   "source": [
    "Задание 2.11 (3 балла)\n",
    "Создайте одномерный массив размерности , в котором каждый элемент - евклидово расстояние между соответствующей строкой A и \"средней\" строкой A"
   ]
  },
  {
   "cell_type": "code",
   "execution_count": 11,
   "metadata": {},
   "outputs": [
    {
     "name": "stdout",
     "output_type": "stream",
     "text": [
      "----------------------------------------------------------- \n",
      "Задача 11：\n",
      "[4.03003793 3.91605159 3.88197804 4.2558432  4.01765249 3.94609683\n",
      " 3.91497345 4.14128972 4.00302136 4.21700689 4.18172816 4.24702038\n",
      " 3.99805972 3.94455005 4.0780873  4.09524032 4.14014166 4.00317751\n",
      " 4.01506416 4.03628507 4.05612224 4.2226571  4.08614655 4.09926198\n",
      " 4.03919595 4.0818588  4.0795651  4.07226007 4.22480576 4.11966768\n",
      " 4.04912751 3.98893828 3.92667501 3.92024443 4.04305242 3.9654248\n",
      " 3.80026991 4.18314362 4.10283282 4.18356142 4.05034615 3.95968014\n",
      " 4.04308031 4.18681161 3.93401681 3.98127172 3.93666373 3.96507485\n",
      " 4.14182864 4.25346986 4.08848594 4.11239421 4.0965201  3.81979133\n",
      " 4.18417432 3.90189133 3.96536202 3.94336939 4.23760063 4.35842723\n",
      " 3.92712295 4.03253513 4.17396507 3.96519079 4.03352574 3.98862781\n",
      " 4.13629923 4.25717232 3.88063801 4.18103062 4.17595994 4.0225418\n",
      " 4.34314263 3.96134262 4.08479472 3.87730866 3.88268837 4.30218892\n",
      " 4.13220543 4.23531345 3.93020638 3.99458628 3.8704498  4.01767475\n",
      " 4.0799947  4.20935378 3.88981601 3.96083907 4.07394349 4.00116629\n",
      " 4.02955403 3.91444424 4.10888426 3.82950336 4.0766698  3.92901164\n",
      " 3.70882064 4.10468959 3.83412364 4.34256466]\n"
     ]
    }
   ],
   "source": [
    "#11\n",
    "import numpy as np\n",
    "#Assuming A is a two-dimensional array with NxM dimensions\n",
    "A = np.random.rand(100, 200)\n",
    "#Calculate the \"average\" row of A\n",
    "mean_A = np.mean(A, axis=0)\n",
    "#Calculate the Euclidean distance between each row A and the \"average\" row A\n",
    "distances = np.linalg.norm(A - mean_A, axis=1)\n",
    "print('-----------------------------------------------------------','\\nЗадача 11：')\n",
    "print(distances)\n"
   ]
  },
  {
   "cell_type": "markdown",
   "metadata": {},
   "source": [
    "Задание 2.12 (2 балла)\n",
    "Создайте новый массив, который состоит из элементов A, измененных по следующим правилам:\n",
    "    если элемент меньше 50, то он умножается на 2\n",
    "    в противном случае он умножается на 3\n",
    "Используйте np.where()"
   ]
  },
  {
   "cell_type": "code",
   "execution_count": 12,
   "metadata": {},
   "outputs": [
    {
     "name": "stdout",
     "output_type": "stream",
     "text": [
      "----------------------------------------------------------- \n",
      "Задача 12：\n",
      "[[276  44 240 ...  76  28  68]\n",
      " [ 62  42 225 ...  24  72  82]\n",
      " [ 66 267  20 ... 168 273   4]\n",
      " ...\n",
      " [ 14  28 285 ...  38  48 249]\n",
      " [ 68  44  18 ...  88 228  68]\n",
      " [ 94 246 153 ... 279 210  40]]\n"
     ]
    }
   ],
   "source": [
    "#12\n",
    "%matplotlib inline\n",
    "import numpy as np\n",
    "import matplotlib.pyplot as plt\n",
    "import seaborn as sns\n",
    "sns.set_theme()\n",
    "print('-----------------------------------------------------------','\\nЗадача 12：')\n",
    "A = np.random.randint(0, 100, size=(200, 50))\n",
    "\n",
    "# Создать новый массив с помощью np.where ()\n",
    "new_A = np.where(A < 50, A * 2, A * 3)\n",
    "print(new_A)"
   ]
  },
  {
   "cell_type": "markdown",
   "metadata": {},
   "source": [
    "Задание 2.13 (7 баллов) \n",
    "Разверните массив А в одномерный массив. Создайте три новых массива, подсчитав скользящие средние по окнам 3, 5, 10. Найдите сумму этих массивов, выровнив из размерности нулями справа \n",
    "Tip: реализуйте функцию, которая считает скользящее среднее. Используйте пр.сиmsиm() или np.convolve)"
   ]
  },
  {
   "cell_type": "code",
   "execution_count": 14,
   "metadata": {},
   "outputs": [
    {
     "name": "stdout",
     "output_type": "stream",
     "text": [
      "[ 22.66666667  37.33333333  57.46666667 ... 135.         145.06666667\n",
      " 155.8       ]\n"
     ]
    }
   ],
   "source": [
    "#13\n",
    "%matplotlib inline\n",
    "\n",
    "import numpy as np\n",
    "import matplotlib.pyplot as plt\n",
    "import seaborn as sns\n",
    "sns.set_theme()\n",
    "\n",
    "A = np.random.randint(0, 100, size=(200, 50))\n",
    "\n",
    "a = A.ravel()\n",
    "\n",
    "def moving_average(arr, n):\n",
    "    cumsum = np.cumsum(arr, dtype=float)\n",
    "    cumsum[n:] = cumsum[n:] - cumsum[:-n]\n",
    "    return cumsum[n - 1:] / n\n",
    "ma3 = moving_average(a, 3)\n",
    "ma5 = moving_average(a, 5)\n",
    "ma10 = moving_average(a, 10)\n",
    "\n",
    "max_len = max(len(ma3), len(ma5), len(ma10))\n",
    "\n",
    "ma3 = np.pad(ma3, (max_len - len(ma3), 0), 'constant')\n",
    "ma5 = np.pad(ma5, (max_len - len(ma5), 0), 'constant')\n",
    "ma10 = np.pad(ma10, (max_len - len(ma10), 0), 'constant')\n",
    "\n",
    "total = ma3 + ma5 + ma10\n",
    "print(total)"
   ]
  },
  {
   "cell_type": "markdown",
   "metadata": {},
   "source": [
    "Задание 2.14 (8 баллов) \n",
    "Постройте график функции \n",
    "f(x) = (5sin(2x) - cos^2(x) -1+ |x^3|-x^2)/(x^2+1) \n",
    "и производной от этой функции. Найдите минимум с помощью sсiру и обозначьте его на графике. На этой же оси постройте графики скользящего среднего этой функции с окном 1, 2, 5.\n"
   ]
  },
  {
   "cell_type": "code",
   "execution_count": 15,
   "metadata": {},
   "outputs": [
    {
     "data": {
      "image/png": "[encoded data removed]",
      "text/plain": [
       "<Figure size 1000x600 with 1 Axes>"
      ]
     },
     "metadata": {},
     "output_type": "display_data"
    }
   ],
   "source": [
    "#14\n",
    "import numpy as np\n",
    "import matplotlib.pyplot as plt\n",
    "from scipy import optimize\n",
    "from scipy.ndimage import uniform_filter1d\n",
    "\n",
    "# Определение функции и ее производной\n",
    "def f(x):\n",
    "    return (5 * np.sin(2 * x) - np.cos(x)**2 - 1 + np.abs(x**3) - x**2) / (x**2 + 1)\n",
    "\n",
    "def df(x):\n",
    "    return ((10 * np.cos(2 * x) + 2 * np.sin(x) + 3 * x**2 - 2*x) * (x**2 + 1) -\n",
    "            (5 * np.sin(2 * x) - np.cos(x)**2 - 1 + np.abs(x**3) - x**2) *2*x) / (x**2 + 1)**2\n",
    "\n",
    "# Создать значение x\n",
    "x = np.linspace(-10, 10, 1000)\n",
    "\n",
    "# Вычисление значений функций и производных\n",
    "y = f(x)\n",
    "dy = df(x)\n",
    "\n",
    "# Используйте Scipy, чтобы найти минимум\n",
    "result = optimize.minimize_scalar(f)\n",
    "x_min = result.x\n",
    "y_min = result.fun\n",
    "\n",
    "# Расчет скользящей средней\n",
    "y_avg1 = uniform_filter1d(y, size=1)\n",
    "y_avg2 = uniform_filter1d(y, size=2)\n",
    "y_avg5 = uniform_filter1d(y, size=5)\n",
    "\n",
    "# Рисовать функции, производную, минимум и скользящее среднее\n",
    "plt.figure(figsize=(10, 6))\n",
    "plt.plot(x, y, label='f(x) = (5 * sin(2 * x) - cos(x)**2 - 1 + |x**3| - x**2) / (x**2 + 1)')\n",
    "plt.plot(x, dy, label=\"f'(x)\")\n",
    "plt.plot(x, y_avg1, label='Moving average (window 1)')\n",
    "plt.plot(x, y_avg2, label='Moving average (window 2)')\n",
    "plt.plot(x, y_avg5, label='Moving average (window 5)')\n",
    "plt.plot(x_min, y_min, 'ro', label='Minimum')\n",
    "plt.legend()\n",
    "plt.grid(True)\n",
    "plt.show()"
   ]
  },
  {
   "cell_type": "markdown",
   "metadata": {},
   "source": [
    "Задание 2.15 (10 баллов)\n",
    "Есть следующий алгоритм семплинирования, на вход функции подается вектор из целых положительных чисел и число семплов.\n",
    "\n",
    "from typing import List \n",
    "\n",
    "def sample(x: List[int], c: int) -> List[int]:\n",
    "    assert len(x) > 0\n",
    "    \n",
    "    s = np.sum(x)\n",
    "    res = []\n",
    "    for _ in range(c):\n",
    "        val = s * np.random.random()\n",
    "        cur, idx = 0, 0        \n",
    "        while cur + x[idx] <= val:\n",
    "            cur += x[idx]\n",
    "            idx += 1\n",
    "            \n",
    "        res.append(idx)\n",
    "    return res\n",
    "\n",
    "            \n",
    "sample([50, 3, 1, 7, 20], 5)   \n",
    "[0, 4, 4, 0, 0]\n",
    "Реализуйте данный алгоритм более оптимальным способом на массивах numpy, без использования циклов. Проверьте корректность и идентичность алгоритмов семплирования с помощью статистических тестов.\n",
    "\n",
    " "
   ]
  },
  {
   "cell_type": "code",
   "execution_count": 16,
   "metadata": {},
   "outputs": [
    {
     "name": "stdout",
     "output_type": "stream",
     "text": [
      "Статистика: 0.0360, p-值: 0.5363\n",
      "Нельзя отказаться от нулевой гипотезы, что выборка имеет одинаковое распределение.\n"
     ]
    }
   ],
   "source": [
    "#15\n",
    "import numpy as np\n",
    "from typing import List\n",
    "\n",
    "\n",
    "def sample(x: List[int], c: int) -> List[int]:\n",
    "    assert len(x) > 0\n",
    "    \n",
    "    s = np.sum(x)\n",
    "    res = []\n",
    "    for _ in range(c):\n",
    "        val = s * np.random.random()\n",
    "        cur, idx = 0, 0        \n",
    "        while cur + x[idx] <= val:\n",
    "            cur += x[idx]\n",
    "            idx += 1\n",
    "            \n",
    "        res.append(idx)\n",
    "    return res\n",
    "\n",
    "            \n",
    "sample([50, 3, 1, 7, 20], 5)   \n",
    "\n",
    "def sample_vectorized(x: List[int], c: int) -> List[int]:\n",
    "    assert len(x) > 0\n",
    "    \n",
    "    s = np.sum(x)\n",
    "    # Создание C случайных значений от 0 до s\n",
    "    vals = np.random.uniform(0, s, size=c)\n",
    "    # Вычислить накопление x и\n",
    "    cumsum = np.cumsum(x)\n",
    "    #Поиск индекса элементов в Cumsum, которые больше или равны Vals\n",
    "    res = np.searchsorted(cumsum, vals)\n",
    "    return res\n",
    "from scipy.stats import kstest\n",
    "\n",
    "# Создать вектор, состоящий из 10 положительных целых чисел\n",
    "x = np.random.randint(1, 100, size=10)\n",
    "# Создание 1000 образцов с помощью двух алгоритмов\n",
    "samples1 = sample(x, 1000)\n",
    "samples2 = sample_vectorized(x, 1000)\n",
    "# Применение критерия Колмогорова - Смирнова\n",
    "stat, p = kstest(samples1, samples2)\n",
    "\n",
    "print(f\"Статистика: {stat:.4f}, p-值: {p:.4f}\")\n",
    "if p > 0.05:\n",
    "    print(\"Нельзя отказаться от нулевой гипотезы, что выборка имеет одинаковое распределение.\")\n",
    "else:\n",
    "    print(\"Отказ от нулевой гипотезы, что выборка не имеет одинакового распределения\")"
   ]
  },
  {
   "cell_type": "markdown",
   "metadata": {},
   "source": [
    "Задание 2.16 (5 баллов)\n",
    "Есть следующий алгоритм \"случайного блуждания\"\n",
    "\n",
    "import random \n",
    "\n",
    "def walk(n: int):\n",
    "    cur_position = 0\n",
    "    for i in range(n):\n",
    "        cur_position += random.choice([-3, -1, 0, 2, 3])\n",
    "\n",
    "    return cur_position\n",
    "\n",
    "walk(10_000)\n",
    "2003\n",
    "Реализуйте более эффективную версию с помощью numpy, сравните производительность (используя, например, magic timeit). Воспользовавшись kdeplot() или аналогами, постройте график распределения значений walk(10_000) на каком-то разумном числе запусков."
   ]
  },
  {
   "cell_type": "code",
   "execution_count": 17,
   "metadata": {},
   "outputs": [
    {
     "name": "stdout",
     "output_type": "stream",
     "text": [
      "2.4 ms ± 43.5 µs per loop (mean ± std. dev. of 7 runs, 100 loops each)\n",
      "142 µs ± 5.13 µs per loop (mean ± std. dev. of 7 runs, 10,000 loops each)\n"
     ]
    },
    {
     "data": {
      "image/png": "[encoded data removed]",
      "text/plain": [
       "<Figure size 640x480 with 1 Axes>"
      ]
     },
     "metadata": {},
     "output_type": "display_data"
    }
   ],
   "source": [
    "#16\n",
    "import random \n",
    "\n",
    "def walk(n: int):\n",
    "    cur_position = 0\n",
    "    for i in range(n):\n",
    "        cur_position += random.choice([-3, -1, 0, 2, 3])\n",
    "\n",
    "    return cur_position\n",
    "\n",
    "walk(10_000)\n",
    "\n",
    "import numpy as np\n",
    "\n",
    "def walk_vectorized(n: int):\n",
    "    # Генерация n случайных целых чисел, получение значений 3, - 1, 0, 2, 3\n",
    "    steps = np.random.choice([-3, -1, 0, 2, 3], size=n)\n",
    "    # Вычислить кумулятивную сумму шагов и получить местоположение\n",
    "    position = np.cumsum(steps)\n",
    "    return position[-1] # Возвращение к конечной позиции\n",
    "\n",
    "%timeit walk(10_000)\n",
    "\n",
    "\n",
    "%timeit walk_vectorized(10_000)\n",
    "\n",
    "\n",
    "import seaborn as sns\n",
    "import matplotlib.pyplot as plt\n",
    "\n",
    "# Генерирует значение 1000 walk (10 000)\n",
    "values = [walk(10_000) for _ in range(1000)]\n",
    "# Составление карты плотности ядра\n",
    "sns.kdeplot(values)\n",
    "plt.xlabel(\"Final position\")\n",
    "plt.ylabel(\"Density\")\n",
    "plt.show()"
   ]
  }
 ],
 "metadata": {
  "kernelspec": {
   "display_name": "Python 3",
   "language": "python",
   "name": "python3"
  },
  "language_info": {
   "codemirror_mode": {
    "name": "ipython",
    "version": 3
   },
   "file_extension": ".py",
   "mimetype": "text/x-python",
   "name": "python",
   "nbconvert_exporter": "python",
   "pygments_lexer": "ipython3",
   "version": "3.12.0"
  }
 },
 "nbformat": 4,
 "nbformat_minor": 2
}
